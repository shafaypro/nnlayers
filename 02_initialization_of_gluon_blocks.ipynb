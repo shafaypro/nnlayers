{
 "cells": [
  {
   "cell_type": "markdown",
   "metadata": {},
   "source": [
    "#### Initialization for gluon"
   ]
  },
  {
   "cell_type": "code",
   "execution_count": 1,
   "metadata": {},
   "outputs": [],
   "source": [
    "from mxnet.gluon import nn # imporst the neural network . \n",
    "import mxnet as mx\n",
    "from mxnet import init, nd # Nd arrays and initialization of the neural netowrk"
   ]
  },
  {
   "cell_type": "markdown",
   "metadata": {},
   "source": [
    "#### Lets check out the initialization layer variables.\n",
    "* Different Initializaiton functions using the specific filter"
   ]
  },
  {
   "cell_type": "code",
   "execution_count": 4,
   "metadata": {},
   "outputs": [
    {
     "data": {
      "text/plain": [
       "mxnet.initializer.Xavier"
      ]
     },
     "execution_count": 4,
     "metadata": {},
     "output_type": "execute_result"
    }
   ],
   "source": [
    "init.Uniform\n",
    "init.Normal\n",
    "init.Zero\n",
    "init.One\n",
    "init.Constant\n",
    "init.Xavier"
   ]
  },
  {
   "cell_type": "markdown",
   "metadata": {},
   "source": [
    "### Xavier Initialization : \n",
    "\n",
    "* Designed to keep the scale of the Gradient Roughtly the same in all the layers\n",
    "The initialization fills the weights with random numbers in the range of [-c,c], where \n",
    "\n",
    "c = sqroot(Magnitude / (0.5 * (Nin +Nout))\n",
    "\n",
    "#### Default Magnitude is : 3"
   ]
  },
  {
   "cell_type": "code",
   "execution_count": 5,
   "metadata": {},
   "outputs": [
    {
     "data": {
      "text/plain": [
       "\n",
       "[[[[ 0.05636501  0.10720772  0.24847925]\n",
       "   [ 0.39752382  0.11866093  0.41332   ]\n",
       "   [ 0.05182666  0.4009717  -0.08815584]]]]\n",
       "<NDArray 1x1x3x3 @cpu(0)>"
      ]
     },
     "execution_count": 5,
     "metadata": {},
     "output_type": "execute_result"
    }
   ],
   "source": [
    "layer = nn.Conv2D(channels =1 , in_channels = 1, kernel_size=(3,3))\n",
    "layer.initialize(init.Xavier())\n",
    "layer.weight.data() # gets the weighted data "
   ]
  },
  {
   "cell_type": "markdown",
   "metadata": {},
   "source": [
    "#### Increasing the number of Inputs and outputs channels "
   ]
  },
  {
   "cell_type": "code",
   "execution_count": 9,
   "metadata": {},
   "outputs": [
    {
     "data": {
      "text/plain": [
       "\n",
       "[[[ 0.01800745  0.00018003  0.02326951]\n",
       "  [ 0.00616667  0.02342321  0.01699275]\n",
       "  [ 0.01053131  0.00329646 -0.0106479 ]]\n",
       "\n",
       " [[-0.02087326 -0.02358085  0.02454488]\n",
       "  [-0.00560166 -0.01296957  0.01189669]\n",
       "  [ 0.0107423   0.02248625  0.00026094]]\n",
       "\n",
       " [[-0.01972144 -0.00108325  0.00215565]\n",
       "  [-0.01306697 -0.00128732  0.01133658]\n",
       "  [-0.02318196 -0.01975982  0.00768923]]\n",
       "\n",
       " ...\n",
       "\n",
       " [[-0.01989544  0.00936969 -0.02401703]\n",
       "  [-0.01459438 -0.00190761  0.0053364 ]\n",
       "  [-0.0250512  -0.01522364  0.00363193]]\n",
       "\n",
       " [[ 0.01621548  0.00475339 -0.00938424]\n",
       "  [-0.0206017   0.00865572  0.0146382 ]\n",
       "  [-0.01792549  0.01922365 -0.00990281]]\n",
       "\n",
       " [[ 0.01530159 -0.01034698 -0.00225418]\n",
       "  [ 0.00689327  0.00737856  0.00923052]\n",
       "  [-0.00561665  0.0176184   0.02188304]]]\n",
       "<NDArray 512x3x3 @cpu(0)>"
      ]
     },
     "execution_count": 9,
     "metadata": {},
     "output_type": "execute_result"
    }
   ],
   "source": [
    "layer = nn.Conv2D(channels =512 , in_channels = 512, kernel_size=(3,3))\n",
    "layer.initialize(init.Xavier())\n",
    "layer.weight.data()[0] # gets the weighted data \n",
    "# Note that the Magnitude is quite lower "
   ]
  },
  {
   "cell_type": "markdown",
   "metadata": {},
   "source": [
    "### Deffered Initialization\n",
    "* You can have the built in Initialization, the number of input is computed automatically"
   ]
  },
  {
   "cell_type": "code",
   "execution_count": 10,
   "metadata": {},
   "outputs": [
    {
     "data": {
      "text/plain": [
       "Parameter conv4_weight (shape=(1, 0, 3, 3), dtype=<class 'numpy.float32'>)"
      ]
     },
     "execution_count": 10,
     "metadata": {},
     "output_type": "execute_result"
    }
   ],
   "source": [
    "layer = nn.Conv2D(channels = 1, kernel_size=(3,3))\n",
    "layer.weight"
   ]
  },
  {
   "cell_type": "code",
   "execution_count": 11,
   "metadata": {},
   "outputs": [
    {
     "data": {
      "text/plain": [
       "\n",
       "[[[[1.7114275 1.7114275 1.7114275 ... 1.7114275 1.7114275 1.7114275]\n",
       "   [1.7114275 1.7114275 1.7114275 ... 1.7114275 1.7114275 1.7114275]\n",
       "   [1.7114275 1.7114275 1.7114275 ... 1.7114275 1.7114275 1.7114275]\n",
       "   ...\n",
       "   [1.7114275 1.7114275 1.7114275 ... 1.7114275 1.7114275 1.7114275]\n",
       "   [1.7114275 1.7114275 1.7114275 ... 1.7114275 1.7114275 1.7114275]\n",
       "   [1.7114275 1.7114275 1.7114275 ... 1.7114275 1.7114275 1.7114275]]]]\n",
       "<NDArray 1x1x222x222 @cpu(0)>"
      ]
     },
     "execution_count": 11,
     "metadata": {},
     "output_type": "execute_result"
    }
   ],
   "source": [
    "# initializing the layers\n",
    "layer.initialize(init.Xavier()) # Xavier forumlae initialization\n",
    "layer(mx.nd.ones((1,6,224,224))) # B C H W layer shape"
   ]
  },
  {
   "cell_type": "code",
   "execution_count": 13,
   "metadata": {},
   "outputs": [],
   "source": [
    "# A specific Computer Context then it would be \n",
    "# Defines the Compute Context whether that context is being used in the GPU or in the CPU\n",
    "\n",
    "layer = nn.Conv2D(channels =1, kernel_size = (3,3))\n",
    "layer.initialize(init.Xavier(), ctx = mx.cpu())#"
   ]
  },
  {
   "cell_type": "code",
   "execution_count": 14,
   "metadata": {},
   "outputs": [
    {
     "data": {
      "text/plain": [
       "Conv2D(None -> 1, kernel_size=(3, 3), stride=(1, 1))"
      ]
     },
     "execution_count": 14,
     "metadata": {},
     "output_type": "execute_result"
    }
   ],
   "source": [
    "layer"
   ]
  },
  {
   "cell_type": "code",
   "execution_count": 15,
   "metadata": {},
   "outputs": [],
   "source": [
    "# Checking the layer data of where it gets places while you specify the running context"
   ]
  },
  {
   "cell_type": "code",
   "execution_count": 17,
   "metadata": {},
   "outputs": [
    {
     "data": {
      "text/plain": [
       "\n",
       "[[[[-1.2021258  -1.2174869  -1.1403397  -0.8745249  -0.6879164\n",
       "    -0.6457738  -1.0628178 ]\n",
       "   [-0.5799694  -0.7252719  -1.5724137  -0.90330255 -0.30871496\n",
       "    -0.66218936 -1.1640208 ]\n",
       "   [-0.673542   -0.5586491  -1.1561754  -0.8428328  -0.6821721\n",
       "    -0.9338168  -0.75375104]\n",
       "   [-1.2072103  -1.0979091  -1.0420954  -1.3674815  -1.4817724\n",
       "    -0.76685524 -0.6871188 ]\n",
       "   [-1.4765165  -1.714197   -1.3726811  -1.0135689  -1.2044282\n",
       "    -1.2499354  -1.0998156 ]\n",
       "   [-1.2498566  -1.3435607  -1.7626504  -1.6374683  -1.0601567\n",
       "    -0.73149955 -1.2927288 ]\n",
       "   [-1.0752985  -1.0247897  -1.0131754  -1.3734058  -1.2946569\n",
       "    -1.2703079  -0.5566581 ]]]]\n",
       "<NDArray 1x1x7x7 @cpu(0)>"
      ]
     },
     "execution_count": 17,
     "metadata": {},
     "output_type": "execute_result"
    }
   ],
   "source": [
    "layer(nd.uniform(shape = (1,3,9,9), ctx = mx.cpu())) # You can change the context to GPU whenever you can "
   ]
  },
  {
   "cell_type": "markdown",
   "metadata": {},
   "source": [
    "### Setting the data for the Blocks Directly (parameters settings)"
   ]
  },
  {
   "cell_type": "code",
   "execution_count": 22,
   "metadata": {},
   "outputs": [],
   "source": [
    "layer.weight.set_data(nd.ones((1,3,3,3), ctx = mx.cpu()))"
   ]
  },
  {
   "cell_type": "code",
   "execution_count": 23,
   "metadata": {},
   "outputs": [
    {
     "data": {
      "text/plain": [
       "<bound method Parameter.data of Parameter conv6_weight (shape=(1, 3, 3, 3), dtype=<class 'numpy.float32'>)>"
      ]
     },
     "execution_count": 23,
     "metadata": {},
     "output_type": "execute_result"
    }
   ],
   "source": [
    "layer.weight.data"
   ]
  },
  {
   "cell_type": "code",
   "execution_count": null,
   "metadata": {},
   "outputs": [],
   "source": []
  }
 ],
 "metadata": {
  "kernelspec": {
   "display_name": "Python 3",
   "language": "python",
   "name": "python3"
  },
  "language_info": {
   "codemirror_mode": {
    "name": "ipython",
    "version": 3
   },
   "file_extension": ".py",
   "mimetype": "text/x-python",
   "name": "python",
   "nbconvert_exporter": "python",
   "pygments_lexer": "ipython3",
   "version": "3.7.0"
  }
 },
 "nbformat": 4,
 "nbformat_minor": 2
}
